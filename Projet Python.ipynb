{
 "cells": [
  {
   "cell_type": "code",
   "execution_count": 1,
   "id": "f54a7996-32cf-4f1a-9746-b3bd90d72e39",
   "metadata": {},
   "outputs": [
    {
     "name": "stdout",
     "output_type": "stream",
     "text": [
      "Requirement already satisfied: wikipedia-api in /opt/mamba/lib/python3.10/site-packages (0.5.4)\n",
      "Requirement already satisfied: requests in /opt/mamba/lib/python3.10/site-packages (from wikipedia-api) (2.28.1)\n",
      "Requirement already satisfied: certifi>=2017.4.17 in /opt/mamba/lib/python3.10/site-packages (from requests->wikipedia-api) (2022.9.24)\n",
      "Requirement already satisfied: idna<4,>=2.5 in /opt/mamba/lib/python3.10/site-packages (from requests->wikipedia-api) (3.4)\n",
      "Requirement already satisfied: urllib3<1.27,>=1.21.1 in /opt/mamba/lib/python3.10/site-packages (from requests->wikipedia-api) (1.26.11)\n",
      "Requirement already satisfied: charset-normalizer<3,>=2 in /opt/mamba/lib/python3.10/site-packages (from requests->wikipedia-api) (2.1.1)\n"
     ]
    }
   ],
   "source": [
    "!pip install wikipedia-api"
   ]
  },
  {
   "cell_type": "code",
   "execution_count": 2,
   "id": "c8ac9961-afdb-4043-85c7-5e80ac8795a9",
   "metadata": {},
   "outputs": [],
   "source": [
    "import wikipediaapi\n",
    "import string"
   ]
  },
  {
   "cell_type": "code",
   "execution_count": 3,
   "id": "ecd1e90c-ab75-44c2-8a0a-0b67caf6c100",
   "metadata": {},
   "outputs": [],
   "source": [
    "# On ne considère que le Wikipedia en français\n",
    "\n",
    "wiki_wiki = wikipediaapi.Wikipedia(\"fr\", extract_format=wikipediaapi.ExtractFormat.WIKI)"
   ]
  },
  {
   "cell_type": "code",
   "execution_count": 4,
   "id": "54e64f9e-b244-4ad8-950f-ccab7ddcf8b4",
   "metadata": {},
   "outputs": [],
   "source": [
    "# On va commencer par écrire une fonction qui retourne la liste des voisins d'une page donnée\n",
    "\n",
    "def get_neighbors(name):\n",
    "    \n",
    "    page = wiki_wiki.page(name)\n",
    "    return list(page.links.keys())"
   ]
  },
  {
   "cell_type": "code",
   "execution_count": 5,
   "id": "4f687d27-ca5a-4309-a5a0-3d38e48df843",
   "metadata": {},
   "outputs": [],
   "source": [
    "# On doit ensuite trouver les voisins des voisins, les ajouter dans une pile de pages à parcourir, puis trouver leurs voisins et recommencer, \n",
    "# et ainsi de suite jusqu'à ce que la pile soit vide (l'élément d'indice 0 est le fond de la pile)\n",
    "# On parle alors de parcours en profondeur du graphe (qu'on peut voir comme un arbre ici)\n",
    "# On va représenter le graphe sous forme d'un dictionnaire d'adjacence, de la forme {\"sommet\" : [voisins]}\n",
    "\n",
    "# Première version pour évaluer le type des liens présents dans des pages quelconques :\n",
    "\n",
    "def get_tree(start):\n",
    "    i = 0\n",
    "    pile = [start]\n",
    "    tree = {}\n",
    "    while pile != [] and i < 500:\n",
    "        node = pile.pop()\n",
    "        i += 1\n",
    "        tree[node] = []\n",
    "        for neighbor in get_neighbors(node):\n",
    "            tree[node].append(neighbor)\n",
    "            if neighbor not in tree.keys():\n",
    "                pile.append(neighbor)\n",
    "    return tree"
   ]
  },
  {
   "cell_type": "markdown",
   "id": "f64d1d9e-6f2e-4675-8340-46585b51744a",
   "metadata": {},
   "source": [
    "get_tree(\"Python_(langage)\")"
   ]
  },
  {
   "cell_type": "code",
   "execution_count": null,
   "id": "c7ce2281-d66d-42e9-aa7d-7fb2d461733c",
   "metadata": {},
   "outputs": [],
   "source": [
    "# Problème : On voit qu'il y a beaucoup de liens qui mènent vers des pages \"indésirables\", comme les modèles, les discussions, les aides etc\n",
    "\n",
    "# On va donc réaliser un filtrage d'expression régulière sur le nom des pages"
   ]
  }
 ],
 "metadata": {
  "kernelspec": {
   "display_name": "Python 3 (ipykernel)",
   "language": "python",
   "name": "python3"
  },
  "language_info": {
   "codemirror_mode": {
    "name": "ipython",
    "version": 3
   },
   "file_extension": ".py",
   "mimetype": "text/x-python",
   "name": "python",
   "nbconvert_exporter": "python",
   "pygments_lexer": "ipython3",
   "version": "3.10.4"
  }
 },
 "nbformat": 4,
 "nbformat_minor": 5
}
