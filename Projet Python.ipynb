{
 "cells": [
  {
   "cell_type": "markdown",
   "id": "5d62c825",
   "metadata": {
    "jp-MarkdownHeadingCollapsed": true,
    "tags": []
   },
   "source": [
    "## Importation des modules"
   ]
  },
  {
   "cell_type": "code",
   "execution_count": 1,
   "id": "f2f09336",
   "metadata": {},
   "outputs": [
    {
     "name": "stdout",
     "output_type": "stream",
     "text": [
      "Collecting wikipedia-api\n",
      "  Downloading Wikipedia_API-0.5.8-py3-none-any.whl (13 kB)\n",
      "Requirement already satisfied: requests in f:\\anaconda-3\\lib\\site-packages (from wikipedia-api) (2.24.0)\n",
      "Requirement already satisfied: urllib3!=1.25.0,!=1.25.1,<1.26,>=1.21.1 in f:\\anaconda-3\\lib\\site-packages (from requests->wikipedia-api) (1.25.11)\n",
      "Requirement already satisfied: certifi>=2017.4.17 in f:\\anaconda-3\\lib\\site-packages (from requests->wikipedia-api) (2020.6.20)\n",
      "Requirement already satisfied: chardet<4,>=3.0.2 in f:\\anaconda-3\\lib\\site-packages (from requests->wikipedia-api) (3.0.4)\n",
      "Requirement already satisfied: idna<3,>=2.5 in f:\\anaconda-3\\lib\\site-packages (from requests->wikipedia-api) (2.10)\n",
      "Installing collected packages: wikipedia-api\n",
      "Successfully installed wikipedia-api-0.5.8\n",
      "Collecting pyvis\n",
      "  Using cached pyvis-0.3.1.tar.gz (748 kB)\n",
      "Requirement already satisfied: jinja2>=2.9.6 in f:\\anaconda-3\\lib\\site-packages (from pyvis) (2.11.2)\n",
      "Requirement already satisfied: networkx>=1.11 in f:\\anaconda-3\\lib\\site-packages (from pyvis) (2.5)\n",
      "Requirement already satisfied: ipython>=5.3.0 in f:\\anaconda-3\\lib\\site-packages (from pyvis) (7.19.0)\n",
      "Collecting jsonpickle>=1.4.1\n",
      "  Downloading jsonpickle-3.0.1-py2.py3-none-any.whl (40 kB)\n",
      "Requirement already satisfied: MarkupSafe>=0.23 in f:\\anaconda-3\\lib\\site-packages (from jinja2>=2.9.6->pyvis) (1.1.1)\n",
      "Requirement already satisfied: decorator>=4.3.0 in f:\\anaconda-3\\lib\\site-packages (from networkx>=1.11->pyvis) (4.4.2)\n",
      "Requirement already satisfied: colorama; sys_platform == \"win32\" in f:\\anaconda-3\\lib\\site-packages (from ipython>=5.3.0->pyvis) (0.4.4)\n",
      "Requirement already satisfied: pygments in f:\\anaconda-3\\lib\\site-packages (from ipython>=5.3.0->pyvis) (2.7.2)\n",
      "Requirement already satisfied: prompt-toolkit!=3.0.0,!=3.0.1,<3.1.0,>=2.0.0 in f:\\anaconda-3\\lib\\site-packages (from ipython>=5.3.0->pyvis) (3.0.8)\n",
      "Requirement already satisfied: backcall in f:\\anaconda-3\\lib\\site-packages (from ipython>=5.3.0->pyvis) (0.2.0)\n",
      "Requirement already satisfied: jedi>=0.10 in f:\\anaconda-3\\lib\\site-packages (from ipython>=5.3.0->pyvis) (0.17.1)\n",
      "Requirement already satisfied: setuptools>=18.5 in f:\\anaconda-3\\lib\\site-packages (from ipython>=5.3.0->pyvis) (50.3.1.post20201107)\n",
      "Requirement already satisfied: traitlets>=4.2 in f:\\anaconda-3\\lib\\site-packages (from ipython>=5.3.0->pyvis) (5.0.5)\n",
      "Requirement already satisfied: pickleshare in f:\\anaconda-3\\lib\\site-packages (from ipython>=5.3.0->pyvis) (0.7.5)\n",
      "Requirement already satisfied: wcwidth in f:\\anaconda-3\\lib\\site-packages (from prompt-toolkit!=3.0.0,!=3.0.1,<3.1.0,>=2.0.0->ipython>=5.3.0->pyvis) (0.2.5)\n",
      "Requirement already satisfied: parso<0.8.0,>=0.7.0 in f:\\anaconda-3\\lib\\site-packages (from jedi>=0.10->ipython>=5.3.0->pyvis) (0.7.0)\n",
      "Requirement already satisfied: ipython-genutils in f:\\anaconda-3\\lib\\site-packages (from traitlets>=4.2->ipython>=5.3.0->pyvis) (0.2.0)\n",
      "Building wheels for collected packages: pyvis\n",
      "  Building wheel for pyvis (setup.py): started\n",
      "  Building wheel for pyvis (setup.py): finished with status 'done'\n",
      "  Created wheel for pyvis: filename=pyvis-0.3.1-py3-none-any.whl size=755833 sha256=3d95652cb490fe1725adcc36a6b08fec9e6b09d0a4560992b9a709ba3617be59\n",
      "  Stored in directory: c:\\users\\admin\\appdata\\local\\pip\\cache\\wheels\\a4\\0c\\61\\8469ca276f96ab772c3acc7f47d71e9737cbdf6f446f017f48\n",
      "Successfully built pyvis\n",
      "Installing collected packages: jsonpickle, pyvis\n",
      "Successfully installed jsonpickle-3.0.1 pyvis-0.3.1\n",
      "Collecting eventlet\n",
      "  Using cached eventlet-0.33.2-py2.py3-none-any.whl (226 kB)\n",
      "Requirement already satisfied: greenlet>=0.3 in f:\\anaconda-3\\lib\\site-packages (from eventlet) (0.4.17)\n",
      "Requirement already satisfied: six>=1.10.0 in f:\\anaconda-3\\lib\\site-packages (from eventlet) (1.15.0)\n",
      "Collecting dnspython>=1.15.0\n",
      "  Using cached dnspython-2.2.1-py3-none-any.whl (269 kB)\n",
      "Installing collected packages: dnspython, eventlet\n",
      "Successfully installed dnspython-2.2.1 eventlet-0.33.2\n"
     ]
    }
   ],
   "source": [
    "!pip install wikipedia-api\n",
    "!pip install pyvis\n",
    "!pip install eventlet"
   ]
  },
  {
   "cell_type": "code",
   "execution_count": 2,
   "id": "71de4a72",
   "metadata": {},
   "outputs": [],
   "source": [
    "import wikipediaapi\n",
    "import pandas as pd\n",
    "import numpy as np"
   ]
  },
  {
   "cell_type": "markdown",
   "id": "b0581c2e",
   "metadata": {
    "tags": []
   },
   "source": [
    "## Création d'une fonction qui recherche les pages voisines d'une page wikipédia"
   ]
  },
  {
   "cell_type": "code",
   "execution_count": 3,
   "id": "e14505d9",
   "metadata": {},
   "outputs": [],
   "source": [
    "# On ne considère que le Wikipedia en français\n",
    "\n",
    "wiki_wiki = wikipediaapi.Wikipedia(\"fr\", extract_format=wikipediaapi.ExtractFormat.WIKI)"
   ]
  },
  {
   "cell_type": "code",
   "execution_count": 4,
   "id": "5168039b",
   "metadata": {},
   "outputs": [],
   "source": [
    "# On va commencer par écrire une fonction qui retourne la liste des voisins d'une page donnée\n",
    "\n",
    "def get_neighbors(name):\n",
    "    \n",
    "    page = wiki_wiki.page(name)\n",
    "    return list(page.links.keys())"
   ]
  },
  {
   "cell_type": "code",
   "execution_count": 5,
   "id": "6138cb3b",
   "metadata": {},
   "outputs": [],
   "source": [
    "# On doit ensuite trouver les voisins des voisins, les ajouter dans une pile de pages à parcourir, puis trouver leurs voisins et recommencer, \n",
    "# et ainsi de suite jusqu'à ce que la pile soit vide (l'élément d'indice 0 est le fond de la pile)\n",
    "# On parle alors de parcours en profondeur du graphe (qu'on peut voir comme un arbre ici)\n",
    "# On va représenter le graphe sous forme d'un dictionnaire d'adjacence, de la forme {\"sommet\" : [voisins]}\n",
    "\n",
    "# Première version pour évaluer le type des liens présents dans des pages quelconques :\n",
    "\n",
    "def get_tree(start):\n",
    "    i = 0\n",
    "    pile = [start]\n",
    "    tree = {}\n",
    "    while pile != [] and i < 50:\n",
    "        node = pile.pop()\n",
    "        i += 1\n",
    "        print(node) # On va visualiser les noms de pages qu'on traite\n",
    "        tree[node] = []\n",
    "        for neighbor in get_neighbors(node):\n",
    "            tree[node].append(neighbor)\n",
    "            if neighbor not in tree.keys():\n",
    "                pile.append(neighbor)\n",
    "    return tree"
   ]
  },
  {
   "cell_type": "code",
   "execution_count": null,
   "id": "4eb43fbe",
   "metadata": {},
   "outputs": [],
   "source": [
    "# On fait un appel à la fonction get_tree pour regarder ce qu'il se passe\n",
    "\n",
    "get_tree(\"Python_(langage)\")"
   ]
  },
  {
   "cell_type": "code",
   "execution_count": 6,
   "id": "ac34db5e",
   "metadata": {},
   "outputs": [],
   "source": [
    "# Problème : On voit qu'il y a beaucoup de liens qui mènent vers des pages \"indésirables\", comme les modèles, \n",
    "# les discussions, les aides etc\n",
    "\n",
    "# On va donc réaliser un filtrage d'expression régulière sur le nom des pages, à l'aide du module re :\n",
    "\n",
    "import re\n",
    "\n",
    "def filtering(name):\n",
    "    if re.match(r\"Portail:.*\", name):\n",
    "        return False\n",
    "    if re.match(r\"Discussion Projet:.*\", name):\n",
    "        return False\n",
    "    if re.match(r\"Discussion:.*\", name):\n",
    "        return False\n",
    "    if re.match(r\"Module:.*\", name):\n",
    "        return False\n",
    "    if re.match(r\"Projet:.*\", name):\n",
    "        return False\n",
    "    if re.match(r\"Modèle:.*\", name):\n",
    "        return False\n",
    "    if re.match(r\"Aide:.*\", name):\n",
    "        return False\n",
    "    if re.match(r\"Catégorie:.*\", name):\n",
    "        return False\n",
    "    if re.match(r\"Utilisateur:.*\", name):\n",
    "        return False\n",
    "    if re.match(r\"Utilisatrice:.*\", name):\n",
    "        return False\n",
    "    if re.match(r\"Discussion Utilisateur:.*\", name):\n",
    "        return False\n",
    "    if re.match(r\"Sujet:.*\", name):\n",
    "        return False\n",
    "    if re.match(r\"Référence:.*\", name):\n",
    "        return False\n",
    "    if re.match(r\"Discussion Wikipédia:.*\", name):\n",
    "        return False\n",
    "    if re.match(r\"Fichier:.*\", name):\n",
    "        return False\n",
    "    if re.match(r\"Discussion modèle:.*\", name):\n",
    "        return False\n",
    "    if re.match(r\"Discussion Portail:.*\", name):\n",
    "        return False\n",
    "    if re.match(r\"Discussion catégorie:.*\", name):\n",
    "        return False\n",
    "    if re.match(r\"Wikipédia:.*\", name):\n",
    "        return False\n",
    "    if re.match(r\"Discussion utilisateur:.*\", name):\n",
    "        return False\n",
    "    return True"
   ]
  },
  {
   "cell_type": "markdown",
   "id": "715876b2",
   "metadata": {
    "tags": []
   },
   "source": [
    "## Fonction d'appel API pour récupérer des pages wikipédia"
   ]
  },
  {
   "cell_type": "code",
   "execution_count": 9,
   "id": "d89af585",
   "metadata": {},
   "outputs": [],
   "source": [
    "# On rajoute une ligne dans la fonction :\n",
    "\n",
    "import numpy as np # On a besoin des fonction numpy sur les tableaux\n",
    "\n",
    "def get_10000_nodes(pile, tree):\n",
    "    i = 0\n",
    "    while pile != [] and i<10000:\n",
    "        global node\n",
    "        node = pile.pop()\n",
    "        if node not in tree.keys():\n",
    "            # print(node)\n",
    "            tree[node] = [[]]\n",
    "            i += 1\n",
    "            neighbors = get_neighbors(node)\n",
    "            if len(neighbors)>0:\n",
    "                for neighbor in neighbors:\n",
    "                    if filtering(neighbor) and len(neighbor)>1:\n",
    "                        tree[node].append(neighbor)\n",
    "                        if neighbor not in tree.keys():\n",
    "                            pile.append(neighbor)\n",
    "    return list(np.unique(np.array(pile))), tree\n",
    "import requests\n",
    "import eventlet # Pour réduire la possibilité de timeout à la lecture\n",
    "\n",
    "global pile, tree # Pour pouvoir garder la progression en cas d'erreur, seule la page d'erreur est perdue, ce n'est pas très grave\n",
    "\n",
    "def get_tree_clean(start = \"Python_(langage)\", pile = [], tree = {}): #On cherche tout le réseau de pages, en partant de la page de Python\n",
    "    j = 0 # Simple compteur pour savoir la vitesse approximative en exécution\n",
    "    with eventlet.Timeout(40000): #Pour empêcher les timeouts\n",
    "        while pile != []: # On traite tous les sommets possibles\n",
    "            pile, tree = get_10000_nodes(pile, tree) # On actualise la valeur toutes les 10 000 pages \n",
    "            j += 1\n",
    "            print(j)\n",
    "\n",
    "    return tree"
   ]
  },
  {
   "cell_type": "markdown",
   "id": "b49d1144",
   "metadata": {
    "jp-MarkdownHeadingCollapsed": true,
    "tags": []
   },
   "source": [
    "## Visualisation du réseau de pages Wikipédia"
   ]
  },
  {
   "cell_type": "code",
   "execution_count": 26,
   "id": "6263fb1b",
   "metadata": {},
   "outputs": [],
   "source": [
    "# Pour visualiser le réseau des pages Wikipédia, on va devoir transformer le dictionnaire d'adjacence en dataframe pandas\n",
    "# Le dataframe comporte 4 colonnes : \"Source\", \"Target\", \"Type\" et \"Weight\"\n",
    "# Le graphe étant orienté, le type d'arête est \"Directed\"\n",
    "\n",
    "def create_dataframe(tree, nb_nodes):\n",
    "    data = {\"Source\" : [], \"Target\" : [], \"Size\" : [], \"Weight\" : []}\n",
    "    i = 0\n",
    "    for node in tree.keys():\n",
    "        i+=1\n",
    "        if i == nb_nodes:\n",
    "            return pd.DataFrame(data)\n",
    "        else:\n",
    "            for neighbor in tree[node]:\n",
    "                if neighbor in tree.keys():\n",
    "                    weight = len(tree[neighbor])\n",
    "                else:\n",
    "                    weight = 0\n",
    "                data[\"Source\"].append(node)\n",
    "                data[\"Target\"].append(neighbor)\n",
    "                data[\"Size\"].append(len(tree[node]))\n",
    "                data[\"Weight\"].append(weight)\n",
    "    return pd.DataFrame(data)"
   ]
  },
  {
   "cell_type": "code",
   "execution_count": 57,
   "id": "05d3efcb",
   "metadata": {},
   "outputs": [],
   "source": [
    "# On visualise alors le graphe, en utilisant le module PyVis :\n",
    "\n",
    "from pyvis.network import Network\n",
    "\n",
    "def visualize(data, c):\n",
    "    net = Network(height=\"750px\", width=\"100%\", bgcolor=\"#222222\", font_color=\"white\", notebook = True)\n",
    "    net.barnes_hut()\n",
    "    sources = data[\"Source\"]\n",
    "    targets = data[\"Target\"]\n",
    "    weights = data[\"Weight\"]\n",
    "    sizes = data[\"Size\"]\n",
    "\n",
    "    edge_data = zip(sources, targets, weights, sizes)\n",
    "\n",
    "    for e in edge_data:\n",
    "        src = e[0]\n",
    "        dst = e[1]\n",
    "        w = e[2]\n",
    "        sz = e[3]\n",
    "\n",
    "        net.add_node(src, src, size = sz/10, title = src)\n",
    "        net.add_node(dst, dst, size = w/10, stitle = dst)\n",
    "        net.add_edge(src, dst, value = w**2)\n",
    "    for i in range(len(c)-1):\n",
    "        src = c[i]\n",
    "        dst = c[i+1]\n",
    "        net.add_node(src, src, size = 400, title = src)\n",
    "        net.add_node(dst, dst, size = 400, title = dst)\n",
    "        net.add_edge(src, dst, width = 4000, color = \"red\" )\n",
    "    net.show(\"Wiki_map.html\")"
   ]
  },
  {
   "cell_type": "code",
   "execution_count": 3,
   "id": "ccdc783b",
   "metadata": {},
   "outputs": [],
   "source": [
    "tree = pd.read_pickle(\"https://minio.lab.sspcloud.fr/cheitz/tree.pickle\") # On charge la base de données enregistrée au format pickle"
   ]
  },
  {
   "cell_type": "code",
   "execution_count": 147,
   "id": "8a210c28",
   "metadata": {},
   "outputs": [],
   "source": [
    "data = create_dataframe(tree, 100000) # On ne crée que les 100 000 premières arêtes, pour des raisons de stockage mémoire"
   ]
  },
  {
   "cell_type": "code",
   "execution_count": 174,
   "id": "28356ed7",
   "metadata": {},
   "outputs": [],
   "source": [
    "data2 = data[:50000] # On se limite à un plus petit nombre d'arêtes pour pouvoir visualiser le graphe"
   ]
  },
  {
   "cell_type": "code",
   "execution_count": 175,
   "id": "73bdb7e4",
   "metadata": {},
   "outputs": [
    {
     "name": "stdout",
     "output_type": "stream",
     "text": [
      "Local cdn resources have problems on chrome/safari when used in jupyter-notebook. \n"
     ]
    }
   ],
   "source": [
    "visualize(data2, []) # On crée le fichier HTML qui code le graphe"
   ]
  },
  {
   "cell_type": "markdown",
   "id": "fa099733",
   "metadata": {
    "jp-MarkdownHeadingCollapsed": true,
    "tags": []
   },
   "source": [
    "## Insertion de l'algorithme de Dijkstra"
   ]
  },
  {
   "cell_type": "code",
   "execution_count": 4,
   "id": "954ccfb2",
   "metadata": {},
   "outputs": [],
   "source": [
    "def initialize(tree, deb): # Fonction d'initialisation de l'algorithme de Dijkstra\n",
    "    d = {} # Dictionnaire de la forme {\"sommet\" : (distance au sommet de départ, prédecesseur dans le chemin vers le sommet d'arrivée)}\n",
    "    sommets = list(tree.keys())\n",
    "    for v in tree.values():\n",
    "        sommets += v\n",
    "    sommets = list(np.unique(sommets))\n",
    "    for s in sommets:\n",
    "        d[s] = (np.inf, None)\n",
    "    d[deb] = (0, None)\n",
    "    return d"
   ]
  },
  {
   "cell_type": "code",
   "execution_count": 5,
   "id": "d54cb11b",
   "metadata": {},
   "outputs": [],
   "source": [
    "def find_min(d, Q): # Fonction pour trouver le sommet de distance minimale au sommet de départ dans un sous-graphe Q du graphe de départ\n",
    "    mini = np.inf\n",
    "    sommet = None\n",
    "    for s in Q.keys():\n",
    "        if d[s][0]<mini:\n",
    "            mini = d[s][0]\n",
    "            sommet = s\n",
    "    return sommet"
   ]
  },
  {
   "cell_type": "code",
   "execution_count": 6,
   "id": "ac0f2afc",
   "metadata": {},
   "outputs": [],
   "source": [
    "def maj_distances(d, s1, s2): # Fonction de mise à jour des distances pour 2 sommets donnés\n",
    "    if d[s2][0]>d[s1][0]+1:\n",
    "        d[s2] = (d[s1][0]+1,s1)"
   ]
  },
  {
   "cell_type": "code",
   "execution_count": 7,
   "id": "101b6274",
   "metadata": {},
   "outputs": [],
   "source": [
    "def dijkstra(tree, deb, fin): # Algorithme de Dijkstra\n",
    "    d = initialize(tree, deb)\n",
    "    Q = tree.copy()\n",
    "    s1 = None\n",
    "    while Q!={} and s1!=fin:\n",
    "        s1 = find_min(d, Q)\n",
    "        if s1 == None:\n",
    "            return None\n",
    "        Q.pop(s1)\n",
    "        for s2 in tree[s1]:\n",
    "            if s2 in d.keys():\n",
    "                maj_distances(d, s1, s2)\n",
    "    return d # On renvoie le dictionnaire {\"sommet\" : (distance, prédecesseur)}"
   ]
  },
  {
   "cell_type": "code",
   "execution_count": 8,
   "id": "b650168b",
   "metadata": {},
   "outputs": [],
   "source": [
    "def chemin(tree, deb, fin): # Fonction qui permet de récupérer le chemin le plus court entre le départ et l'arrivée\n",
    "    d = dijkstra(tree, deb, fin)\n",
    "    if d == None:\n",
    "        print(\"Pas de chemin trouvé entre vos 2 sommets :( \")\n",
    "        pass\n",
    "    else:\n",
    "        A = []\n",
    "        s = fin\n",
    "        while s!=deb:\n",
    "            A = [s]+A\n",
    "            s = d[s][1]\n",
    "        return [deb]+A"
   ]
  },
  {
   "cell_type": "code",
   "execution_count": 10,
   "id": "d92402e8",
   "metadata": {},
   "outputs": [
    {
     "data": {
      "text/plain": [
       "605470"
      ]
     },
     "execution_count": 10,
     "metadata": {},
     "output_type": "execute_result"
    }
   ],
   "source": [
    "nodes = list(tree.keys()) # On prend la liste de tous les sommets du graphe\n",
    "len(nodes)"
   ]
  },
  {
   "cell_type": "markdown",
   "id": "a0037d0b",
   "metadata": {},
   "source": [
    "### Attention, le choix de 10 000 sommets est arbitraire, et correspond aux caractéristiques de mon ordinateur !!"
   ]
  },
  {
   "cell_type": "code",
   "execution_count": 11,
   "id": "3e1dc48b",
   "metadata": {},
   "outputs": [],
   "source": [
    "nodes = nodes[:10000] # On doit se limiter aux 10 000 premiers sommets pour des raisons de tractabilité \n",
    "tree_10k = {k : tree[k] for k in nodes}"
   ]
  },
  {
   "cell_type": "code",
   "execution_count": 15,
   "id": "c10914a7",
   "metadata": {},
   "outputs": [
    {
     "name": "stdout",
     "output_type": "stream",
     "text": [
      "Óscar Iván Zuluaga Élections législatives cubaines de 1956\n"
     ]
    }
   ],
   "source": [
    "deb, fin = np.random.choice(nodes), np.random.choice(nodes) # On choisit un début et une fin aléatoirement\n",
    "print(deb, fin)"
   ]
  },
  {
   "cell_type": "code",
   "execution_count": 37,
   "id": "3cba1e52",
   "metadata": {},
   "outputs": [
    {
     "name": "stdout",
     "output_type": "stream",
     "text": [
      "['Óscar Iván Zuluaga', 'Équateur (pays)', \"État d'exception\", \"État d'urgence en France\", 'Élection présidentielle française de 2017', 'Élections législatives et présidentielles dans le monde', 'Élections législatives cubaines de 2018', 'Élections législatives cubaines de 1956']\n"
     ]
    }
   ],
   "source": [
    "c = chemin(tree_10k, deb, fin) # On regarde quel est le chemin le plus court entre deb et fin\n",
    "print(c)"
   ]
  },
  {
   "cell_type": "code",
   "execution_count": 59,
   "id": "3961aa77",
   "metadata": {},
   "outputs": [],
   "source": [
    "nodes_10k = list(tree_10k.keys())\n",
    "subgraph = []\n",
    "while not all(i in subgraph for i in c):\n",
    "    subgraph = np.random.choice(nodes_10k, 20000)\n",
    "subtree = {k : tree_10k[k] for k in nodes_10k}\n",
    "subdata = create_dataframe(subtree, 100000)"
   ]
  },
  {
   "cell_type": "code",
   "execution_count": null,
   "id": "308bc46a",
   "metadata": {
    "scrolled": true
   },
   "outputs": [
    {
     "name": "stdout",
     "output_type": "stream",
     "text": [
      "Local cdn resources have problems on chrome/safari when used in jupyter-notebook. \n"
     ]
    }
   ],
   "source": [
    "visualize(subdata, c) # On visualise le chemin qu'on a obtenu de la façon suivante :"
   ]
  },
  {
   "cell_type": "markdown",
   "id": "b373e4f6",
   "metadata": {
    "tags": []
   },
   "source": [
    "## Création d'une interface graphique"
   ]
  },
  {
   "cell_type": "markdown",
   "id": "5fc85f85",
   "metadata": {},
   "source": [
    "<span style=\"color:red\"> Attention, l'ensemble du code qui suit est à faire tourner tel quel dans un IDE, car il nécessite d'ouvrir une fenêtre tierce !! </span> <br>\n",
    "Nous vous conseillons d'utiliser \"Python_(langage)\" et \"États-Unis\" comme pages de départ et d'arrivée, car nous nous sommes restreints à un petit nombre de sommets; sinon, vous pouvez en tirer 2 au hasard parmi nodes_10k avec la fonction get_random"
   ]
  },
  {
   "cell_type": "code",
   "execution_count": null,
   "id": "6aa010d8",
   "metadata": {},
   "outputs": [],
   "source": [
    "import pandas as pd\n",
    "import numpy as np\n",
    "from tkinter import *\n",
    "import tkinter.font as font\n",
    "\n",
    "tree = pd.read_pickle(\"https://minio.lab.sspcloud.fr/cheitz/tree.pickle\") # On charge la base de données enregistrée au format pickle\n",
    "nodes = list(tree.keys()) # On prend la liste de tous les sommets du graphe\n",
    "nodes_10k = nodes[:10000] # On doit se limiter aux 10 000 premiers sommets pour des raisons de tractabilité \n",
    "tree_10k = {k : tree[k] for k in nodes_10k}\n",
    "\n",
    "def get_random():\n",
    "    return np.random.choice(nodes_10k)\n",
    "\n",
    "depart = get_random()\n",
    "arrivee = get_random()\n",
    "\n",
    "def initialize(tree, deb): # Fonction d'initialisation de l'algorithme de Dijkstra\n",
    "    d = {} # Dictionnaire de la forme {\"sommet\" : (distance au sommet de départ, prédecesseur dans le chemin vers le sommet d'arrivée)}\n",
    "    sommets = list(tree.keys())\n",
    "    for v in tree.values():\n",
    "        sommets += v\n",
    "    sommets = list(np.unique(sommets))\n",
    "    for s in sommets:\n",
    "        d[s] = (np.inf, None)\n",
    "    d[deb] = (0, None)\n",
    "    return d\n",
    "\n",
    "def find_min(d, Q): # Fonction pour trouver le sommet de distance minimale au sommet de départ dans un sous-graphe Q du graphe de départ\n",
    "    mini = np.inf\n",
    "    sommet = None\n",
    "    for s in Q.keys():\n",
    "        if d[s][0]<mini:\n",
    "            mini = d[s][0]\n",
    "            sommet = s\n",
    "    return sommet\n",
    "\n",
    "def maj_distances(d, s1, s2): # Fonction de mise à jour des distances pour 2 sommets donnés\n",
    "    if d[s2][0]>d[s1][0]+1:\n",
    "        d[s2] = (d[s1][0]+1,s1)\n",
    "\n",
    "def dijkstra(tree, deb, fin): # Algorithme de Dijkstra\n",
    "    d = initialize(tree, deb)\n",
    "    Q = tree.copy()\n",
    "    s1 = None\n",
    "    while Q!={} and s1!=fin:\n",
    "        s1 = find_min(d, Q)\n",
    "        if s1 == None:\n",
    "            return None\n",
    "        Q.pop(s1)\n",
    "        for s2 in tree[s1]:\n",
    "            if s2 in d.keys():\n",
    "                maj_distances(d, s1, s2)\n",
    "    return d # On renvoie le dictionnaire {\"sommet\" : (distance, prédecesseur)}\n",
    "\n",
    "def chemin(tree, deb, fin): # Fonction qui permet de récupérer le chemin le plus court entre le départ et l'arrivée\n",
    "    d = dijkstra(tree, deb, fin)\n",
    "    if d == None:\n",
    "        print(\"Pas de chemin trouvé entre vos 2 sommets :( \")\n",
    "        pass\n",
    "    else:\n",
    "        A = []\n",
    "        s = fin\n",
    "        while s!=deb:\n",
    "            A = [s]+A\n",
    "            s = d[s][1]\n",
    "        return [deb]+A\n",
    "\n",
    "def print_chemin(): # Fonction qui sert à effectuer la recherche de plus court chemin dans l'interface graphique\n",
    "\n",
    "    depart = fenêtre.winfo_children()[1].get()\n",
    "    arrivee = fenêtre.winfo_children()[2].get()\n",
    "\n",
    "    if depart not in nodes_10k:\n",
    "        result = depart + \" n'est pas dans la liste des pages traitées.\"\n",
    "    elif arrivee not in nodes_10k:\n",
    "        result = arrivee + \" n'est pas dans la liste des pages traitées.\"\n",
    "    else:\n",
    "        c = chemin(tree_10k, depart, arrivee)\n",
    "        result = \"Le plus court chemin est : \" + str(c)\n",
    "\n",
    "    reset_widgets(depart, arrivee, result)\n",
    "\n",
    "#Création de la fenêtre et de son titre\n",
    "fenêtre=Tk()\n",
    "fenêtre.title(\"Plus court chemin Wikipedia\")\n",
    "fenêtre.config(bg = \"blue\") #couleur de l'arrière-plan\n",
    "fenêtre.geometry(\"800x600\") #dimensions de la fenêtre\n",
    "\n",
    "\n",
    "def reset_widgets(s1 = \"page de départ, ex : Python(langage)\", s2 = \"page d'arrivée, ex : Chocolat\", result = \"Veuillez effectuer une recherche.\"):\n",
    "\n",
    "    for w in fenêtre.winfo_children():\n",
    "        w.destroy()\n",
    "\n",
    "    #Création d'un label pour la saisie des sommets à relier\n",
    "    SommetLabel = Label(fenêtre, text=\"Saisir les pages wikipedia de départ et d'arrivée : \", bg = \"blue\", fg='white')\n",
    "    SommetLabel['font'] = font.Font(family='Times New Roman', size=18, weight=\"bold\")\n",
    "    SommetLabel.pack(pady=10)\n",
    "\n",
    "    #Création des zones de saisie\n",
    "    sommet1 = StringVar()\n",
    "    sommet2 = StringVar()\n",
    "\n",
    "    sommet1.set(s1)\n",
    "    sommet2.set(s2)\n",
    "\n",
    "    saisieSommet1 = Entry(fenêtre, textvariable=sommet1, width=35)\n",
    "    saisieSommet2 = Entry(fenêtre, textvariable=sommet2, width=35)\n",
    "\n",
    "    saisieSommet1['font'] = font.Font(family='Times New Roman', size=15)\n",
    "    saisieSommet2['font'] = font.Font(family='Times New Roman', size=15)\n",
    "\n",
    "    saisieSommet1.pack(pady=10)\n",
    "    saisieSommet2.pack(pady=5)\n",
    "\n",
    "    #Création d'un bouton\n",
    "\n",
    "    command_button = Button(fenêtre, text=\"CALCULER CHEMIN\", relief=GROOVE, width=17, height=1, bg=\"yellow\", command=lambda: print_chemin())\n",
    "    command_button['font'] = font.Font(family='Times New Roman', size=15, weight=\"bold\")\n",
    "    command_button.pack(pady=20)\n",
    "\n",
    "    ResultatLabel = Label(fenêtre, text=result, bg = \"blue\", fg='white')\n",
    "    ResultatLabel['font'] = font.Font(family='Times New Roman', size=18, weight=\"bold\")\n",
    "    ResultatLabel.pack(pady=100)\n",
    "\n",
    "reset_widgets()\n",
    "fenêtre.mainloop()"
   ]
  },
  {
   "cell_type": "code",
   "execution_count": null,
   "id": "683cb2fa-9291-41c1-98c9-00352f4eb7de",
   "metadata": {},
   "outputs": [],
   "source": [
    "## 2ème version de l'interface graphique (plus moderne)"
   ]
  },
  {
   "cell_type": "code",
   "execution_count": null,
   "id": "83756bd8-985d-41b5-91d8-cf89a23084b0",
   "metadata": {},
   "outputs": [],
   "source": [
    "import pandas as pd\n",
    "import numpy as np\n",
    "import customtkinter\n",
    "\n",
    "\n",
    "tree = pd.read_pickle(\"https://minio.lab.sspcloud.fr/cheitz/tree.pickle\") # On charge la base de données enregistrée au format pickle\n",
    "nodes = list(tree.keys()) # On prend la liste de tous les sommets du graphe\n",
    "nodes_10k = nodes[:10000] # On doit se limiter aux 10 000 premiers sommets pour des raisons de tractabilité \n",
    "tree_10k = {k : tree[k] for k in nodes_10k}\n",
    "\n",
    "def get_random():\n",
    "    return np.random.choice(nodes_10k)\n",
    "\n",
    "depart = get_random()\n",
    "arrivee = get_random()\n",
    "\n",
    "def initialize(tree, deb): # Fonction d'initialisation de l'algorithme de Dijkstra\n",
    "    d = {} # Dictionnaire de la forme {\"sommet\" : (distance au sommet de départ, prédecesseur dans le chemin vers le sommet d'arrivée)}\n",
    "    sommets = list(tree.keys())\n",
    "    for v in tree.values():\n",
    "        sommets += v\n",
    "    sommets = list(np.unique(sommets))\n",
    "    for s in sommets:\n",
    "        d[s] = (np.inf, None)\n",
    "    d[deb] = (0, None)\n",
    "    return d\n",
    "\n",
    "def find_min(d, Q): # Fonction pour trouver le sommet de distance minimale au sommet de départ dans un sous-graphe Q du graphe de départ\n",
    "    mini = np.inf\n",
    "    sommet = None\n",
    "    for s in Q.keys():\n",
    "        if d[s][0]<mini:\n",
    "            mini = d[s][0]\n",
    "            sommet = s\n",
    "    return sommet\n",
    "\n",
    "def maj_distances(d, s1, s2): # Fonction de mise à jour des distances pour 2 sommets donnés\n",
    "    if d[s2][0]>d[s1][0]+1:\n",
    "        d[s2] = (d[s1][0]+1,s1)\n",
    "\n",
    "def dijkstra(tree, deb, fin): # Algorithme de Dijkstra\n",
    "    d = initialize(tree, deb)\n",
    "    Q = tree.copy()\n",
    "    s1 = None\n",
    "    while Q!={} and s1!=fin:\n",
    "        s1 = find_min(d, Q)\n",
    "        if s1 == None:\n",
    "            return None\n",
    "        Q.pop(s1)\n",
    "        for s2 in tree[s1]:\n",
    "            if s2 in d.keys():\n",
    "                maj_distances(d, s1, s2)\n",
    "    return d # On renvoie le dictionnaire {\"sommet\" : (distance, prédecesseur)}\n",
    "\n",
    "def chemin(tree, deb, fin): # Fonction qui permet de récupérer le chemin le plus court entre le départ et l'arrivée\n",
    "    d = dijkstra(tree, deb, fin)\n",
    "    if d == None:\n",
    "        print(\"Pas de chemin trouvé entre vos 2 sommets :( \")\n",
    "        pass\n",
    "    else:\n",
    "        A = []\n",
    "        s = fin\n",
    "        while s!=deb:\n",
    "            A = [s]+A\n",
    "            s = d[s][1]\n",
    "        return [deb]+A\n",
    "\n",
    "def print_chemin(): # Fonction qui sert à effectuer la recherche de plus court chemin dans l'interface graphique\n",
    "\n",
    "    depart = frame.winfo_children()[1].get()\n",
    "    arrivee = frame.winfo_children()[2].get()\n",
    "\n",
    "    if depart not in nodes_10k:\n",
    "        result = depart + \" n'est pas dans la liste des pages traitées.\"\n",
    "    elif arrivee not in nodes_10k:\n",
    "        result = arrivee + \" n'est pas dans la liste des pages traitées.\"\n",
    "    else:\n",
    "        c = chemin(tree_10k, depart, arrivee)\n",
    "        result = \"Le plus court chemin est : \" + str(c)\n",
    "\n",
    "    reset_widgets(depart, arrivee, result)\n",
    "\n",
    "#Création de la fenêtre et de son titre\n",
    "\n",
    "customtkinter.set_appearance_mode(\"light\")\n",
    "customtkinter.set_default_color_theme(\"green\")\n",
    "\n",
    "fenetre=customtkinter.CTk()\n",
    "fenetre.title(\"Plus court chemin Wikipedia\")\n",
    "fenetre.geometry(\"500x350\") # dimensions de la fenêtre\n",
    "frame = customtkinter.CTkFrame(master=fenetre)\n",
    "frame.pack(pady=20, padx=60, fill=\"both\", expand=True)\n",
    "\n",
    "\n",
    "def reset_widgets(s1 = \"page de départ, ex : Python(langage)\", s2 = \"page d'arrivée, ex : Chocolat\", result = \"Veuillez effectuer une recherche.\"):\n",
    "\n",
    "    for w in frame.winfo_children():\n",
    "        w.destroy()\n",
    "\n",
    "    \n",
    "    \n",
    "    #Création d'un label pour la saisie des sommets à relier\n",
    "    label = customtkinter.CTkLabel(master=frame, text=\"Calcul du plus court chemin\", font=(\"Roboto\", 24))\n",
    "    label.pack(pady=12, padx=10)\n",
    "\n",
    "    #Création des zones de saisie\n",
    "    sommet1 = customtkinter.CTkEntry(master=frame, placeholder_text=s1)\n",
    "    sommet1.pack(pady=12, padx=10)\n",
    "    sommet2 = customtkinter.CTkEntry(master=frame, placeholder_text=s2)\n",
    "    sommet2.pack(pady=12, padx=10)\n",
    "\n",
    "    #Création d'un bouton\n",
    "    button = customtkinter.CTkButton(master=frame, text=\"calculer\", command=lambda: print_chemin())\n",
    "    button.pack(pady=12,padx=10)\n",
    "\n",
    "    #Création du label avec le résultat\n",
    "    ResultatLabel = customtkinter.CTkLabel(master=frame, text=result, font=(\"Roboto\", 12))\n",
    "    ResultatLabel.pack(pady=12, padx=10)\n",
    "\n",
    "reset_widgets()\n",
    "fenetre.mainloop()"
   ]
  }
 ],
 "metadata": {
  "kernelspec": {
   "display_name": "Python 3 (ipykernel)",
   "language": "python",
   "name": "python3"
  },
  "language_info": {
   "codemirror_mode": {
    "name": "ipython",
    "version": 3
   },
   "file_extension": ".py",
   "mimetype": "text/x-python",
   "name": "python",
   "nbconvert_exporter": "python",
   "pygments_lexer": "ipython3",
   "version": "3.10.4"
  }
 },
 "nbformat": 4,
 "nbformat_minor": 5
}
