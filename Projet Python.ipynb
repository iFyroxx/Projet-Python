{
 "cells": [
  {
   "cell_type": "code",
   "execution_count": 34,
   "id": "f54a7996-32cf-4f1a-9746-b3bd90d72e39",
   "metadata": {},
   "outputs": [
    {
     "name": "stdout",
     "output_type": "stream",
     "text": [
      "Requirement already satisfied: wikipedia-api in /opt/mamba/lib/python3.9/site-packages (0.5.4)\n",
      "Requirement already satisfied: requests in /opt/mamba/lib/python3.9/site-packages (from wikipedia-api) (2.28.1)\n",
      "Requirement already satisfied: charset-normalizer<3,>=2 in /opt/mamba/lib/python3.9/site-packages (from requests->wikipedia-api) (2.1.1)\n",
      "Requirement already satisfied: urllib3<1.27,>=1.21.1 in /opt/mamba/lib/python3.9/site-packages (from requests->wikipedia-api) (1.26.11)\n",
      "Requirement already satisfied: idna<4,>=2.5 in /opt/mamba/lib/python3.9/site-packages (from requests->wikipedia-api) (3.3)\n",
      "Requirement already satisfied: certifi>=2017.4.17 in /opt/mamba/lib/python3.9/site-packages (from requests->wikipedia-api) (2022.9.24)\n",
      "Requirement already satisfied: nltk in /opt/mamba/lib/python3.9/site-packages (3.6.7)\n",
      "Requirement already satisfied: tqdm in /opt/mamba/lib/python3.9/site-packages (from nltk) (4.64.0)\n",
      "Requirement already satisfied: click in /opt/mamba/lib/python3.9/site-packages (from nltk) (8.1.3)\n",
      "Requirement already satisfied: regex>=2021.8.3 in /opt/mamba/lib/python3.9/site-packages (from nltk) (2022.9.13)\n",
      "Requirement already satisfied: joblib in /opt/mamba/lib/python3.9/site-packages (from nltk) (1.2.0)\n"
     ]
    }
   ],
   "source": [
    "!pip install wikipedia-api"
   ]
  },
  {
   "cell_type": "code",
   "execution_count": 40,
   "id": "c8ac9961-afdb-4043-85c7-5e80ac8795a9",
   "metadata": {},
   "outputs": [
    {
     "name": "stderr",
     "output_type": "stream",
     "text": [
      "[nltk_data] Downloading package stopwords to /home/onyxia/nltk_data...\n",
      "[nltk_data]   Package stopwords is already up-to-date!\n"
     ]
    },
    {
     "data": {
      "text/plain": [
       "True"
      ]
     },
     "execution_count": 40,
     "metadata": {},
     "output_type": "execute_result"
    }
   ],
   "source": [
    "import wikipediaapi\n",
    "import string\n",
    "import nltk\n",
    "nltk.download(\"stopwords\")"
   ]
  },
  {
   "cell_type": "code",
   "execution_count": 13,
   "id": "ecd1e90c-ab75-44c2-8a0a-0b67caf6c100",
   "metadata": {},
   "outputs": [],
   "source": [
    "wiki_wiki = wikipediaapi.Wikipedia(\"fr\", extract_format=wikipediaapi.ExtractFormat.WIKI)"
   ]
  },
  {
   "cell_type": "code",
   "execution_count": 18,
   "id": "217ea0f3-3c7c-4b0b-bcfc-293c62ce8592",
   "metadata": {},
   "outputs": [
    {
     "name": "stdout",
     "output_type": "stream",
     "text": [
      "2000 à la télévision: 2000 à la télévision (id: ??, ns: 0)\n",
      "2002 à la télévision: 2002 à la télévision (id: ??, ns: 0)\n",
      "Aide:Homonymie: Aide:Homonymie (id: ??, ns: 12)\n",
      "Angleterre: Angleterre (id: ??, ns: 0)\n",
      "Apollon: Apollon (id: ??, ns: 0)\n",
      "Armstrong Siddeley Python: Armstrong Siddeley Python (id: ??, ns: 0)\n",
      "Cameroun: Cameroun (id: ??, ns: 0)\n",
      "Colt Python: Colt Python (id: ??, ns: 0)\n",
      "Colt's Manufacturing Company: Colt's Manufacturing Company (id: ??, ns: 0)\n",
      "Delphes: Delphes (id: ??, ns: 0)\n",
      "Efteling: Efteling (id: ??, ns: 0)\n",
      "Espèce: Espèce (id: ??, ns: 0)\n",
      "Famille (biologie): Famille (biologie) (id: ??, ns: 0)\n",
      "Genre (biologie): Genre (biologie) (id: ??, ns: 0)\n",
      "Georges Python: Georges Python (id: ??, ns: 0)\n",
      "Guerre froide: Guerre froide (id: ??, ns: 0)\n",
      "Israël: Israël (id: ??, ns: 0)\n",
      "José Python: José Python (id: ??, ns: 0)\n",
      "Langage de programmation: Langage de programmation (id: ??, ns: 0)\n",
      "Lee Alan McConnell: Lee Alan McConnell (id: ??, ns: 0)\n",
      "Loxocemus bicolor: Loxocemus bicolor (id: ??, ns: 0)\n",
      "Marie Python: Marie Python (id: ??, ns: 0)\n",
      "Missile air-air: Missile air-air (id: ??, ns: 0)\n",
      "Montagnes russes: Montagnes russes (id: ??, ns: 0)\n",
      "Monty Python: Monty Python (id: ??, ns: 0)\n",
      "Mythologie grecque: Mythologie grecque (id: ??, ns: 0)\n",
      "PYTHON: PYTHON (id: ??, ns: 0)\n",
      "Parc d'attractions: Parc d'attractions (id: ??, ns: 0)\n",
      "Pays-Bas: Pays-Bas (id: ??, ns: 0)\n",
      "Piton: Piton (id: ??, ns: 0)\n",
      "Python (Efteling): Python (Efteling) (id: ??, ns: 0)\n",
      "Python (genre): Python (genre) (id: ??, ns: 0)\n",
      "Python (langage): Python (langage) (id: ??, ns: 0)\n",
      "Python (mythologie): Python (mythologie) (id: ??, ns: 0)\n",
      "Python (serpent): Python (serpent) (id: ??, ns: 0)\n",
      "Python (téléfilm): Python (téléfilm) (id: ??, ns: 0)\n",
      "Python 2: Python 2 (id: ??, ns: 0)\n",
      "Pythonidae: Pythonidae (id: ??, ns: 0)\n",
      "Rafael Python: Rafael Python (id: ??, ns: 0)\n",
      "Revolver: Revolver (id: ??, ns: 0)\n",
      "Richard Clabaugh: Richard Clabaugh (id: ??, ns: 0)\n",
      "Royaume-Uni: Royaume-Uni (id: ??, ns: 0)\n",
      "Seconde Guerre mondiale: Seconde Guerre mondiale (id: ??, ns: 0)\n",
      "Serpentes: Serpentes (id: ??, ns: 0)\n",
      "Suisse: Suisse (id: ??, ns: 0)\n",
      "Turbopropulseur: Turbopropulseur (id: ??, ns: 0)\n",
      "Valentine Python: Valentine Python (id: ??, ns: 0)\n"
     ]
    }
   ],
   "source": [
    "def print_links(page):\n",
    "        links = page.links\n",
    "        for title in sorted(links.keys()):\n",
    "            print(\"%s: %s\" % (title, links[title]))\n",
    "print_links(page)"
   ]
  },
  {
   "cell_type": "code",
   "execution_count": 19,
   "id": "378e8998-8121-4ef1-abbb-db98eeb75416",
   "metadata": {},
   "outputs": [
    {
     "data": {
      "text/plain": [
       "True"
      ]
     },
     "execution_count": 19,
     "metadata": {},
     "output_type": "execute_result"
    }
   ],
   "source": [
    "page_py = wiki_wiki.page(\"Python_(langage)\")\n",
    "page_py.exists()"
   ]
  },
  {
   "cell_type": "code",
   "execution_count": 92,
   "id": "54e64f9e-b244-4ad8-950f-ccab7ddcf8b4",
   "metadata": {},
   "outputs": [],
   "source": [
    "from nltk.tokenize import WordPunctTokenizer\n",
    "from nltk.corpus import stopwords\n",
    "\n",
    "stop = set(stopwords.words('french')+list(string.punctuation))\n",
    "def filtre_chiffres_and_underscore(token):\n",
    "    for i in range(10):\n",
    "        if str(i) in token or \"_\" in token:\n",
    "            return False\n",
    "    return True\n",
    "\n",
    "filtre_stop = lambda tokens: [token for token in tokens if token not in stop and filtre_chiffres_and_underscore(token)]\n",
    "\n",
    "def get_cleaned_tokens(text):\n",
    "    tokens = WordPunctTokenizer().tokenize(text.lower())\n",
    "    return filtre_stop(tokens)"
   ]
  }
 ],
 "metadata": {
  "kernelspec": {
   "display_name": "Python 3 (ipykernel)",
   "language": "python",
   "name": "python3"
  },
  "language_info": {
   "codemirror_mode": {
    "name": "ipython",
    "version": 3
   },
   "file_extension": ".py",
   "mimetype": "text/x-python",
   "name": "python",
   "nbconvert_exporter": "python",
   "pygments_lexer": "ipython3",
   "version": "3.9.0"
  }
 },
 "nbformat": 4,
 "nbformat_minor": 5
}
